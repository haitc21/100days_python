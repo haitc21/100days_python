{
 "cells": [
  {
   "cell_type": "code",
   "execution_count": 8,
   "metadata": {},
   "outputs": [
    {
     "data": {
      "text/plain": [
       "Undergraduate Major                  Physician Assistant\n",
       "Starting Median Salary                           74300.0\n",
       "Mid-Career Median Salary                         91700.0\n",
       "Mid-Career 10th Percentile Salary                66400.0\n",
       "Mid-Career 90th Percentile Salary               124000.0\n",
       "Group                                               STEM\n",
       "Name: 43, dtype: object"
      ]
     },
     "execution_count": 8,
     "metadata": {},
     "output_type": "execute_result"
    }
   ],
   "source": [
    "import pandas as pd\n",
    "\n",
    "df = pd.read_csv(\"salaries_by_college_major.csv\")\n",
    "# select top\n",
    "# df.head(10)\n",
    "\n",
    "# rows, columns count\n",
    "# df.shape\n",
    "\n",
    "# list column name\n",
    "# print(df.columns)\n",
    "\n",
    "# check data is NaN\n",
    "# print(df.isna())\n",
    "\n",
    "# select last fows\n",
    "# print(df.tail(10))\n",
    "\n",
    "clean_df = df.dropna()\n",
    "max_salary = clean_df['Starting Median Salary'].max()\n",
    "id_max_salary =clean_df['Starting Median Salary'].idxmax()\n",
    "row_max_salary = clean_df['Undergraduate Major'][id_max_salary]\n",
    "clean_df.loc[id_max_salary]\n"
   ]
  }
 ],
 "metadata": {
  "kernelspec": {
   "display_name": "base",
   "language": "python",
   "name": "python3"
  },
  "language_info": {
   "codemirror_mode": {
    "name": "ipython",
    "version": 3
   },
   "file_extension": ".py",
   "mimetype": "text/x-python",
   "name": "python",
   "nbconvert_exporter": "python",
   "pygments_lexer": "ipython3",
   "version": "3.11.4"
  },
  "orig_nbformat": 4
 },
 "nbformat": 4,
 "nbformat_minor": 2
}
